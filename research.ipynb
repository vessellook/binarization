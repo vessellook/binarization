{
 "cells": [
  {
   "cell_type": "code",
   "execution_count": null,
   "id": "5918ae55",
   "metadata": {
    "ExecuteTime": {
     "end_time": "2022-06-26T12:40:32.900100Z",
     "start_time": "2022-06-26T12:40:32.021180Z"
    }
   },
   "outputs": [],
   "source": [
    "import numpy as np\n",
    "import cv2 as cv\n",
    "from matplotlib import pyplot as plt"
   ]
  },
  {
   "cell_type": "code",
   "execution_count": null,
   "id": "924dfd4d",
   "metadata": {
    "ExecuteTime": {
     "end_time": "2022-06-26T12:40:34.024726Z",
     "start_time": "2022-06-26T12:40:33.876904Z"
    }
   },
   "outputs": [],
   "source": [
    "path = 'images/training/image00003.jpg'\n",
    "\n",
    "original = cv.imread(str(path), cv.IMREAD_COLOR)\n",
    "red = original[:, :, 2]\n",
    "green = original[:, :, 1]\n",
    "blue = original[:, :, 0]\n",
    "hsv = cv.cvtColor(original, cv.COLOR_BGR2HSV)\n",
    "hue = hsv[:, :, 0]\n",
    "sat = hsv[:, :, 1]\n",
    "val = hsv[:, :, 2]"
   ]
  },
  {
   "cell_type": "code",
   "execution_count": null,
   "id": "b4a208d4",
   "metadata": {
    "ExecuteTime": {
     "end_time": "2022-06-26T12:41:56.155378Z",
     "start_time": "2022-06-26T12:41:46.154051Z"
    }
   },
   "outputs": [],
   "source": [
    "# распределение яркости и контрастности по тонам\n",
    "\n",
    "max_sat = np.zeros((180,))\n",
    "max_val = np.zeros((180,))\n",
    "pixel_count = np.zeros((180,))\n",
    "h = hue.shape[0]\n",
    "w = hue.shape[1]\n",
    "for y in range(h):\n",
    "    for x in range(w):\n",
    "        pos = hue[y, x]\n",
    "        pixel_count[pos] += 1\n",
    "        if max_sat[pos] < sat[y, x]:\n",
    "            max_sat[pos] = sat[y, x]\n",
    "        if max_val[pos] < val[y, x]:\n",
    "            max_val[pos] = val[y, x]"
   ]
  },
  {
   "cell_type": "code",
   "execution_count": null,
   "id": "77c783da",
   "metadata": {
    "ExecuteTime": {
     "end_time": "2022-06-26T12:41:56.286244Z",
     "start_time": "2022-06-26T12:41:56.178043Z"
    }
   },
   "outputs": [],
   "source": [
    "plt.plot(pixel_count)"
   ]
  },
  {
   "cell_type": "code",
   "execution_count": null,
   "id": "5c59b607",
   "metadata": {
    "ExecuteTime": {
     "end_time": "2022-06-26T12:42:59.444361Z",
     "start_time": "2022-06-26T12:42:59.313425Z"
    }
   },
   "outputs": [],
   "source": [
    "plt.plot(max_val)"
   ]
  },
  {
   "cell_type": "code",
   "execution_count": null,
   "id": "2b206dc5",
   "metadata": {
    "ExecuteTime": {
     "end_time": "2022-06-26T12:42:59.999288Z",
     "start_time": "2022-06-26T12:42:59.909173Z"
    }
   },
   "outputs": [],
   "source": [
    "plt.plot(max_sat)"
   ]
  },
  {
   "cell_type": "code",
   "execution_count": null,
   "id": "790d08af",
   "metadata": {
    "ExecuteTime": {
     "end_time": "2022-06-26T12:48:52.257627Z",
     "start_time": "2022-06-26T12:48:51.122312Z"
    }
   },
   "outputs": [],
   "source": [
    "from IPython.display import display\n",
    "from PIL import Image\n",
    "grayscale = blue\n",
    "\n",
    "display(Image.fromarray(grayscale))"
   ]
  },
  {
   "cell_type": "code",
   "execution_count": null,
   "id": "0ee5b394",
   "metadata": {
    "ExecuteTime": {
     "end_time": "2022-06-26T12:38:58.715145Z",
     "start_time": "2022-06-26T12:38:58.255463Z"
    }
   },
   "outputs": [],
   "source": [
    "_ = plt.hist(val.flatten(), bins=255)"
   ]
  },
  {
   "cell_type": "code",
   "execution_count": null,
   "id": "0c65bfa3",
   "metadata": {
    "ExecuteTime": {
     "end_time": "2022-06-26T12:38:59.593543Z",
     "start_time": "2022-06-26T12:38:59.179841Z"
    }
   },
   "outputs": [],
   "source": [
    "_ = plt.hist(blue.flatten(), bins=255)"
   ]
  },
  {
   "cell_type": "code",
   "execution_count": null,
   "id": "d0148928",
   "metadata": {
    "ExecuteTime": {
     "end_time": "2022-06-26T12:39:00.526289Z",
     "start_time": "2022-06-26T12:39:00.120457Z"
    }
   },
   "outputs": [],
   "source": [
    "_ = plt.hist(green.flatten(), bins=255)"
   ]
  },
  {
   "cell_type": "code",
   "execution_count": null,
   "id": "a807bda3",
   "metadata": {},
   "outputs": [],
   "source": []
  }
 ],
 "metadata": {
  "hide_input": false,
  "kernelspec": {
   "display_name": "Python 3 (ipykernel)",
   "language": "python",
   "name": "python3"
  },
  "language_info": {
   "codemirror_mode": {
    "name": "ipython",
    "version": 3
   },
   "file_extension": ".py",
   "mimetype": "text/x-python",
   "name": "python",
   "nbconvert_exporter": "python",
   "pygments_lexer": "ipython3",
   "version": "3.9.7"
  },
  "latex_envs": {
   "LaTeX_envs_menu_present": true,
   "autoclose": false,
   "autocomplete": true,
   "bibliofile": "biblio.bib",
   "cite_by": "apalike",
   "current_citInitial": 1,
   "eqLabelWithNumbers": true,
   "eqNumInitial": 1,
   "hotkeys": {
    "equation": "Ctrl-E",
    "itemize": "Ctrl-I"
   },
   "labels_anchors": false,
   "latex_user_defs": false,
   "report_style_numbering": false,
   "user_envs_cfg": false
  },
  "toc": {
   "base_numbering": 1,
   "nav_menu": {},
   "number_sections": true,
   "sideBar": true,
   "skip_h1_title": false,
   "title_cell": "Table of Contents",
   "title_sidebar": "Contents",
   "toc_cell": false,
   "toc_position": {},
   "toc_section_display": true,
   "toc_window_display": false
  },
  "varInspector": {
   "cols": {
    "lenName": 16,
    "lenType": 16,
    "lenVar": 40
   },
   "kernels_config": {
    "python": {
     "delete_cmd_postfix": "",
     "delete_cmd_prefix": "del ",
     "library": "var_list.py",
     "varRefreshCmd": "print(var_dic_list())"
    },
    "r": {
     "delete_cmd_postfix": ") ",
     "delete_cmd_prefix": "rm(",
     "library": "var_list.r",
     "varRefreshCmd": "cat(var_dic_list()) "
    }
   },
   "types_to_exclude": [
    "module",
    "function",
    "builtin_function_or_method",
    "instance",
    "_Feature"
   ],
   "window_display": false
  }
 },
 "nbformat": 4,
 "nbformat_minor": 5
}
