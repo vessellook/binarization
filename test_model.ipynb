{
 "cells": [
  {
   "cell_type": "code",
   "execution_count": null,
   "id": "f1e24cd6",
   "metadata": {
    "ExecuteTime": {
     "end_time": "2022-06-22T12:18:29.982075Z",
     "start_time": "2022-06-22T12:18:20.849850Z"
    }
   },
   "outputs": [],
   "source": [
    "!pip install tensorflow\n",
    "!pip install keras_unet\n",
    "!pip install opencv-contrib-python\n",
    "!pip install matplotlib"
   ]
  },
  {
   "cell_type": "code",
   "execution_count": null,
   "id": "ee534704",
   "metadata": {
    "ExecuteTime": {
     "end_time": "2022-06-22T15:59:54.101974Z",
     "start_time": "2022-06-22T15:59:48.256237Z"
    }
   },
   "outputs": [],
   "source": [
    "import tensorflow as tf\n",
    "from matplotlib import pyplot as plt\n",
    "\n",
    "tf.__version__"
   ]
  },
  {
   "cell_type": "code",
   "execution_count": null,
   "id": "c9d7e62a",
   "metadata": {
    "ExecuteTime": {
     "end_time": "2022-06-22T12:18:36.550808Z",
     "start_time": "2022-06-22T12:18:34.354038Z"
    }
   },
   "outputs": [],
   "source": [
    "from keras_unet.metrics import iou, iou_thresholded\n",
    "\n",
    "model_path = f\"models/model.1655852129\"\n",
    "model = tf.keras.models.load_model(model_path,\n",
    "                                   custom_objects=dict(iou_thresholded=iou_thresholded, iou=iou))"
   ]
  },
  {
   "cell_type": "code",
   "execution_count": null,
   "id": "6000475b",
   "metadata": {
    "ExecuteTime": {
     "end_time": "2022-06-22T12:18:36.666977Z",
     "start_time": "2022-06-22T12:18:36.583028Z"
    }
   },
   "outputs": [],
   "source": [
    "model.summary()"
   ]
  },
  {
   "cell_type": "code",
   "execution_count": null,
   "id": "8920a70f",
   "metadata": {
    "ExecuteTime": {
     "end_time": "2022-06-22T15:59:55.969737Z",
     "start_time": "2022-06-22T15:59:54.118330Z"
    }
   },
   "outputs": [],
   "source": [
    "import cv2 as cv\n",
    "path = 'images/training/2image.png'\n",
    "\n",
    "image = cv.imread(path)\n",
    "image = image[...,::-1] / 255\n",
    "\n",
    "plt.imshow(image)\n",
    "print(image.shape)"
   ]
  },
  {
   "cell_type": "code",
   "execution_count": null,
   "id": "2c17af4c",
   "metadata": {
    "ExecuteTime": {
     "end_time": "2022-06-22T12:38:39.361897Z",
     "start_time": "2022-06-22T12:38:39.354879Z"
    }
   },
   "outputs": [],
   "source": [
    "from imsplit import imsplit\n",
    "crops = imsplit(image, 256, step=64)\n",
    "\n",
    "len(crops)"
   ]
  },
  {
   "cell_type": "code",
   "execution_count": null,
   "id": "74c66b21",
   "metadata": {
    "ExecuteTime": {
     "end_time": "2022-06-22T12:38:44.955165Z",
     "start_time": "2022-06-22T12:38:42.083564Z"
    }
   },
   "outputs": [],
   "source": [
    "batch = np.array([crop[0] for crop in crops])\n",
    "\n",
    "batch.shape, batch.dtype, batch.max()"
   ]
  },
  {
   "cell_type": "code",
   "execution_count": null,
   "id": "a1dd129c",
   "metadata": {
    "ExecuteTime": {
     "end_time": "2022-06-22T12:40:10.365820Z",
     "start_time": "2022-06-22T12:38:47.625084Z"
    }
   },
   "outputs": [],
   "source": [
    "result_batch = model.predict(batch)"
   ]
  },
  {
   "cell_type": "code",
   "execution_count": null,
   "id": "8b051031",
   "metadata": {
    "ExecuteTime": {
     "end_time": "2022-06-22T12:40:14.572419Z",
     "start_time": "2022-06-22T12:40:13.103056Z"
    }
   },
   "outputs": [],
   "source": [
    "from imsplit import replace_segments, imjoin_average, imjoin_min, imjoin_max\n",
    "\n",
    "result_crops = replace_segments(crops=crops, new_segments=result_batch)\n",
    "result_image = imjoin_average(result_crops)\n",
    "\n",
    "plt.imshow(np.squeeze(result_image), cmap='gray')\n",
    "plt.show()"
   ]
  },
  {
   "cell_type": "code",
   "execution_count": null,
   "id": "b8f1c587",
   "metadata": {
    "ExecuteTime": {
     "end_time": "2022-06-22T12:40:19.080105Z",
     "start_time": "2022-06-22T12:40:18.552619Z"
    }
   },
   "outputs": [],
   "source": [
    "from PIL import Image\n",
    "\n",
    "path = 'image.png'\n",
    "im = Image.fromarray(np.squeeze((result_image * 255).astype(np.uint8))).save(path)"
   ]
  },
  {
   "cell_type": "code",
   "execution_count": null,
   "id": "97a682f3",
   "metadata": {},
   "outputs": [],
   "source": []
  }
 ],
 "metadata": {
  "hide_input": false,
  "kernelspec": {
   "display_name": "Python 3 (ipykernel)",
   "language": "python",
   "name": "python3"
  },
  "language_info": {
   "codemirror_mode": {
    "name": "ipython",
    "version": 3
   },
   "file_extension": ".py",
   "mimetype": "text/x-python",
   "name": "python",
   "nbconvert_exporter": "python",
   "pygments_lexer": "ipython3",
   "version": "3.9.7"
  },
  "latex_envs": {
   "LaTeX_envs_menu_present": true,
   "autoclose": false,
   "autocomplete": true,
   "bibliofile": "biblio.bib",
   "cite_by": "apalike",
   "current_citInitial": 1,
   "eqLabelWithNumbers": true,
   "eqNumInitial": 1,
   "hotkeys": {
    "equation": "Ctrl-E",
    "itemize": "Ctrl-I"
   },
   "labels_anchors": false,
   "latex_user_defs": false,
   "report_style_numbering": false,
   "user_envs_cfg": false
  },
  "toc": {
   "base_numbering": 1,
   "nav_menu": {},
   "number_sections": true,
   "sideBar": true,
   "skip_h1_title": false,
   "title_cell": "Table of Contents",
   "title_sidebar": "Contents",
   "toc_cell": false,
   "toc_position": {},
   "toc_section_display": true,
   "toc_window_display": false
  },
  "varInspector": {
   "cols": {
    "lenName": 16,
    "lenType": 16,
    "lenVar": 40
   },
   "kernels_config": {
    "python": {
     "delete_cmd_postfix": "",
     "delete_cmd_prefix": "del ",
     "library": "var_list.py",
     "varRefreshCmd": "print(var_dic_list())"
    },
    "r": {
     "delete_cmd_postfix": ") ",
     "delete_cmd_prefix": "rm(",
     "library": "var_list.r",
     "varRefreshCmd": "cat(var_dic_list()) "
    }
   },
   "types_to_exclude": [
    "module",
    "function",
    "builtin_function_or_method",
    "instance",
    "_Feature"
   ],
   "window_display": false
  }
 },
 "nbformat": 4,
 "nbformat_minor": 5
}
